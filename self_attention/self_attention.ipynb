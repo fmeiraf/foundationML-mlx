{
 "cells": [
  {
   "cell_type": "code",
   "execution_count": 16,
   "metadata": {},
   "outputs": [],
   "source": [
    "import mlx.nn as nn\n",
    "import mlx.core as mx"
   ]
  },
  {
   "cell_type": "markdown",
   "metadata": {},
   "source": [
    "## Understanding and Coding Self-Attention "
   ]
  },
  {
   "cell_type": "markdown",
   "metadata": {},
   "source": [
    "This is an MLX version of the awesome article created by Sebastian Raschka: [Understanding and Coding Self-Attention, Multi-Head Attention, Cross-Attention, and Causal-Attention in LLMs](https://magazine.sebastianraschka.com/p/understanding-and-coding-self-attention). \n",
    "\n",
    "I just wanted to run this on MLX to learn and get the practive of using the lib. \n"
   ]
  },
  {
   "cell_type": "markdown",
   "metadata": {},
   "source": [
    "### **Embedding an Input Sentence**"
   ]
  },
  {
   "cell_type": "code",
   "execution_count": 6,
   "metadata": {},
   "outputs": [
    {
     "data": {
      "text/plain": [
       "{'Life': 0, 'dessert': 1, 'eat': 2, 'first': 3, 'is': 4, 'short': 5}"
      ]
     },
     "execution_count": 6,
     "metadata": {},
     "output_type": "execute_result"
    }
   ],
   "source": [
    "sentence = 'Life is short, eat dessert first'\n",
    "\n",
    "dc = { s:i for i, s in enumerate(sorted(sentence.replace(',', '').split(' '))) }\n",
    "\n",
    "dc\n"
   ]
  },
  {
   "cell_type": "code",
   "execution_count": 8,
   "metadata": {},
   "outputs": [
    {
     "name": "stdout",
     "output_type": "stream",
     "text": [
      "array([0, 4, 5, 2, 1, 3], dtype=int32)\n"
     ]
    }
   ],
   "source": [
    "sentence_int = mx.array([ dc[s] for s in sentence.replace(',', '').split(' ') ])\n",
    "\n",
    "print(sentence_int)"
   ]
  },
  {
   "cell_type": "code",
   "execution_count": 19,
   "metadata": {},
   "outputs": [
    {
     "name": "stdout",
     "output_type": "stream",
     "text": [
      "array([[-0.696892, 0.251667, -0.973329],\n",
      "       [0.185253, -0.116112, 0.462164],\n",
      "       [-0.169591, 0.474225, -0.639736],\n",
      "       [0.0158762, 0.00966178, -0.00937334],\n",
      "       [-0.372818, 0.371361, -0.115717],\n",
      "       [-0.222577, 0.155811, 0.154389]], dtype=float32) [6, 3]\n"
     ]
    }
   ],
   "source": [
    "vocab_size = 50000\n",
    "\n",
    "mx.random.seed(123)\n",
    "\n",
    "embed = nn.Embedding(vocab_size, 3)\n",
    "embedded_sentence = embed(sentence_int)\n",
    "\n",
    "print(embedded_sentence, embedded_sentence.shape)"
   ]
  },
  {
   "cell_type": "markdown",
   "metadata": {},
   "source": [
    "### **Defining the Weight Matrices**"
   ]
  },
  {
   "cell_type": "code",
   "execution_count": 23,
   "metadata": {},
   "outputs": [],
   "source": [
    "mx.random.seed(123)\n",
    "\n",
    "d = embedded_sentence.shape[1]\n",
    "\n",
    "d_q, d_k, d_v = 2, 2, 4\n",
    "\n",
    "W_query = mx.array(mx.random.normal((d, d_q)))\n",
    "W_key = mx.array(mx.random.normal((d, d_k)))\n",
    "W_value = mx.array(mx.random.normal((d, d_v)))\n"
   ]
  },
  {
   "cell_type": "code",
   "execution_count": 57,
   "metadata": {},
   "outputs": [
    {
     "name": "stdout",
     "output_type": "stream",
     "text": [
      "[6, 2] [6, 2] [6, 4]\n"
     ]
    }
   ],
   "source": [
    "kk = embedded_sentence @ W_key\n",
    "qq = embedded_sentence @ W_query\n",
    "vv = embedded_sentence @ W_value\n",
    "\n",
    "print(kk.shape, qq.shape, vv.shape)"
   ]
  },
  {
   "cell_type": "code",
   "execution_count": 68,
   "metadata": {},
   "outputs": [
    {
     "data": {
      "text/plain": [
       "array([[-0.375703, 0.122179, -0.385584, -0.00105096, -0.421755, -0.217912],\n",
       "       [0.375137, -0.21757, 0.589012, 0.0162334, 0.246473, 0.00777121],\n",
       "       [-0.667561, 0.493398, -1.27491, -0.0457645, -0.244485, 0.219374],\n",
       "       [-0.0348911, 0.0283096, -0.072017, -0.00279252, -0.00817113, 0.0170009],\n",
       "       [0.314138, -0.200112, 0.531488, 0.0164408, 0.17365, -0.0328317],\n",
       "       [0.491097, -0.326443, 0.859923, 0.0278635, 0.246611, -0.0811913]], dtype=float32)"
      ]
     },
     "execution_count": 68,
     "metadata": {},
     "output_type": "execute_result"
    }
   ],
   "source": [
    "att"
   ]
  },
  {
   "cell_type": "code",
   "execution_count": 69,
   "metadata": {},
   "outputs": [
    {
     "data": {
      "text/plain": [
       "array([[0.155411, 0.190439, 0.154785, 0.181096, 0.152517, 0.165752],\n",
       "       [0.180194, 0.141466, 0.196635, 0.155635, 0.170973, 0.155098],\n",
       "       [0.136975, 0.220029, 0.106896, 0.176558, 0.1628, 0.196742],\n",
       "       [0.165107, 0.169423, 0.162624, 0.167285, 0.166918, 0.168642],\n",
       "       [0.178534, 0.144726, 0.1951, 0.158103, 0.168583, 0.154954],\n",
       "       [0.18508, 0.132559, 0.215155, 0.153189, 0.167499, 0.146518]], dtype=float32)"
      ]
     },
     "execution_count": 69,
     "metadata": {},
     "output_type": "execute_result"
    }
   ],
   "source": [
    "att = qq @ kk.T\n",
    "\n",
    "mx.softmax(att / sentence_int.shape[0]**0.5, -1)"
   ]
  },
  {
   "cell_type": "markdown",
   "metadata": {},
   "source": [
    "### **Computing the Unnormalized Attention Weights**"
   ]
  },
  {
   "cell_type": "code",
   "execution_count": 26,
   "metadata": {},
   "outputs": [
    {
     "name": "stdout",
     "output_type": "stream",
     "text": [
      "[2]\n",
      "[2]\n",
      "[4]\n"
     ]
    }
   ],
   "source": [
    "x_2 = embedded_sentence[1]\n",
    "query_2 = x_2 @ W_query\n",
    "key_2 = x_2 @ W_key\n",
    "value_2 = x_2 @ W_value\n",
    "\n",
    "print(query_2.shape)\n",
    "print(key_2.shape)\n",
    "print(value_2.shape)"
   ]
  },
  {
   "cell_type": "code",
   "execution_count": 30,
   "metadata": {},
   "outputs": [
    {
     "name": "stdout",
     "output_type": "stream",
     "text": [
      "keys.shape: [6, 2]\n",
      "values.shape: [6, 4]\n"
     ]
    }
   ],
   "source": [
    "keys = embedded_sentence @ W_key\n",
    "values = embedded_sentence @ W_value\n",
    "\n",
    "print(\"keys.shape:\", keys.shape)\n",
    "print(\"values.shape:\", values.shape)"
   ]
  },
  {
   "cell_type": "code",
   "execution_count": 46,
   "metadata": {},
   "outputs": [
    {
     "name": "stdout",
     "output_type": "stream",
     "text": [
      "array(0.246473, dtype=float32)\n"
     ]
    }
   ],
   "source": [
    "omega_24 = (query_2 * keys[4]).sum(axis=0)\n",
    "print(omega_24)"
   ]
  },
  {
   "cell_type": "code",
   "execution_count": 47,
   "metadata": {},
   "outputs": [
    {
     "name": "stdout",
     "output_type": "stream",
     "text": [
      "array([0.375137, -0.21757, 0.589012, 0.0162334, 0.246473, 0.00777121], dtype=float32)\n"
     ]
    }
   ],
   "source": [
    "omega_2 = query_2 @ keys.T\n",
    "print(omega_2)"
   ]
  },
  {
   "cell_type": "markdown",
   "metadata": {},
   "source": [
    "### **Computing the Attention Weights**"
   ]
  },
  {
   "cell_type": "code",
   "execution_count": 49,
   "metadata": {},
   "outputs": [
    {
     "data": {
      "text/plain": [
       "array([0.265262, -0.153845, 0.416495, 0.0114788, 0.174283, 0.00549508], dtype=float32)"
      ]
     },
     "execution_count": 49,
     "metadata": {},
     "output_type": "execute_result"
    }
   ],
   "source": [
    "omega_2 / d_k**0.5"
   ]
  },
  {
   "cell_type": "code",
   "execution_count": 53,
   "metadata": {},
   "outputs": [
    {
     "name": "stdout",
     "output_type": "stream",
     "text": [
      "array([0.189357, 0.124528, 0.220273, 0.146915, 0.17289, 0.146038], dtype=float32)\n"
     ]
    }
   ],
   "source": [
    "\n",
    "attention_weights_2 = mx.softmax(omega_2 / d_k**0.5, 0)\n",
    "print(attention_weights_2)"
   ]
  },
  {
   "cell_type": "markdown",
   "metadata": {},
   "source": [
    "### **Self-Attention**"
   ]
  },
  {
   "cell_type": "code",
   "execution_count": 90,
   "metadata": {},
   "outputs": [],
   "source": [
    "class SelfAttention(nn.Module):\n",
    "    def __init__(self, d_in, d_out_kq, d_out_v):\n",
    "        super().__init__()\n",
    "        self.d_out_kq = d_out_kq\n",
    "        self.W_query = nn.Linear(d_in, d_out_kq, bias=False)\n",
    "        self.W_key = nn.Linear(d_in, d_out_kq, bias=False)\n",
    "        self.W_value = nn.Linear(d_in, d_out_v, bias=False)\n",
    "    \n",
    "    def __call__(self, x):\n",
    "        keys = self.W_key(x)\n",
    "        queries = self.W_query(x)\n",
    "        values = self.W_value(x)\n",
    "\n",
    "        attn_scores = queries @ keys.T # unnormalized attention weights\n",
    "\n",
    "        attn_weights = mx.softmax(attn_scores / self.d_out_kq**0.5, -1)\n",
    "\n",
    "        context_vec = attn_weights @ values\n",
    "        return context_vec"
   ]
  },
  {
   "cell_type": "code",
   "execution_count": 91,
   "metadata": {},
   "outputs": [
    {
     "name": "stdout",
     "output_type": "stream",
     "text": [
      "array([[-0.0313195, 0.104693, 0.132542, -0.0298887],\n",
      "       [-0.0297479, 0.106741, 0.163512, -0.043829],\n",
      "       [-0.0305369, 0.106373, 0.150997, -0.0381344],\n",
      "       [-0.0302048, 0.106577, 0.15645, -0.0406181],\n",
      "       [-0.0302526, 0.105162, 0.148332, -0.0372819],\n",
      "       [-0.0300828, 0.105523, 0.152456, -0.0390983]], dtype=float32)\n"
     ]
    }
   ],
   "source": [
    "mx.random.seed(123)\n",
    "\n",
    "# reduce d_out_v from 4 to 1, because we have 4 heads\n",
    "d_in, d_out_kq, d_out_v = 3, 2, 4\n",
    "\n",
    "sa = SelfAttention(d_in, d_out_kq, d_out_v)\n",
    "print(sa(embedded_sentence))"
   ]
  },
  {
   "cell_type": "code",
   "execution_count": null,
   "metadata": {},
   "outputs": [],
   "source": []
  },
  {
   "cell_type": "code",
   "execution_count": null,
   "metadata": {},
   "outputs": [],
   "source": []
  },
  {
   "cell_type": "code",
   "execution_count": null,
   "metadata": {},
   "outputs": [],
   "source": []
  },
  {
   "cell_type": "code",
   "execution_count": null,
   "metadata": {},
   "outputs": [],
   "source": []
  },
  {
   "cell_type": "code",
   "execution_count": null,
   "metadata": {},
   "outputs": [],
   "source": []
  },
  {
   "cell_type": "code",
   "execution_count": null,
   "metadata": {},
   "outputs": [],
   "source": []
  }
 ],
 "metadata": {
  "kernelspec": {
   "display_name": "foundation-ml",
   "language": "python",
   "name": "python3"
  },
  "language_info": {
   "codemirror_mode": {
    "name": "ipython",
    "version": 3
   },
   "file_extension": ".py",
   "mimetype": "text/x-python",
   "name": "python",
   "nbconvert_exporter": "python",
   "pygments_lexer": "ipython3",
   "version": "3.11.7"
  }
 },
 "nbformat": 4,
 "nbformat_minor": 2
}
